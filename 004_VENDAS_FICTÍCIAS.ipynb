{
  "nbformat": 4,
  "nbformat_minor": 0,
  "metadata": {
    "colab": {
      "provenance": []
    },
    "kernelspec": {
      "name": "python3",
      "display_name": "Python 3"
    },
    "language_info": {
      "name": "python"
    }
  },
  "cells": [
    {
      "cell_type": "markdown",
      "source": [
        "## **BASE DE VENDAS FICTÍCIAS**"
      ],
      "metadata": {
        "id": "awtoarRW9yaI"
      }
    },
    {
      "cell_type": "code",
      "source": [
        "\"\"\" Problemas resolvidos:\n",
        "\n",
        "    - Padronização das colunas\n",
        "    - Conversão\n",
        "    - Valores faltantes\n",
        "    - Valores duplicados\n",
        "    - Mensuramento dos dados \"\"\""
      ],
      "metadata": {
        "id": "7DxjJ9NQDI5k"
      },
      "execution_count": null,
      "outputs": []
    },
    {
      "cell_type": "code",
      "execution_count": null,
      "metadata": {
        "id": "p6LBlypT9eLi"
      },
      "outputs": [],
      "source": [
        "import pandas as pd\n",
        "import numpy as np"
      ]
    },
    {
      "cell_type": "code",
      "source": [
        "df = pd.read_csv('vendas_ficticias.csv')"
      ],
      "metadata": {
        "id": "kSvBKB6I-Io5"
      },
      "execution_count": null,
      "outputs": []
    },
    {
      "cell_type": "code",
      "source": [
        "# 5000 linhas e 7 colunas\n",
        "df.shape\n",
        "\n",
        "qtd_linhas = df.shape[0]\n",
        "qtd_colunas = df.shape[1]"
      ],
      "metadata": {
        "id": "b-61CmtLAK7G"
      },
      "execution_count": null,
      "outputs": []
    },
    {
      "cell_type": "code",
      "source": [
        "# padronização e conversão de Preço e Data_Venda\n",
        "df.info()"
      ],
      "metadata": {
        "id": "loIucFIj-Il9"
      },
      "execution_count": null,
      "outputs": []
    },
    {
      "cell_type": "code",
      "source": [
        "# padronização das colunas\n",
        "df.columns\n",
        "\n",
        "colunas = ['id', 'produto', 'categoria', 'preco', 'quantidade', 'dt_venda',\n",
        "       'vendedor']\n",
        "df.columns = colunas\n",
        "\n",
        "df.columns"
      ],
      "metadata": {
        "id": "IUN1AOqN-Ii9"
      },
      "execution_count": null,
      "outputs": []
    },
    {
      "cell_type": "code",
      "source": [
        "# conversao de preco\n",
        "\n",
        "df.preco\n",
        "\n",
        "df['preco'] = df['preco'].str.replace(\"'\",  '')\n",
        "# df['preco'] = pd.to_numeric(df['preco'].str.replace(\"'\", ''))\n",
        "\n",
        "df.preco"
      ],
      "metadata": {
        "id": "trcn5NTU-If7"
      },
      "execution_count": null,
      "outputs": []
    },
    {
      "cell_type": "code",
      "source": [
        "df = df.astype(\n",
        "    {\n",
        "        'preco': np.float64\n",
        "    }\n",
        ")\n",
        "\n",
        "df.preco"
      ],
      "metadata": {
        "id": "iy4DIQsdLEXa"
      },
      "execution_count": null,
      "outputs": []
    },
    {
      "cell_type": "code",
      "source": [
        "# conversão de data\n",
        "df.dt_venda\n",
        "\n",
        "df['dt_venda'] = pd.to_datetime(df['dt_venda'], format='%Y-%m-%d')\n",
        "\n",
        "df.dt_venda"
      ],
      "metadata": {
        "id": "FfyLFgXe-IYr"
      },
      "execution_count": null,
      "outputs": []
    },
    {
      "cell_type": "code",
      "source": [
        "# valores faltantes\n",
        "df.info()"
      ],
      "metadata": {
        "id": "1y3ItPKO-INR"
      },
      "execution_count": null,
      "outputs": []
    },
    {
      "cell_type": "code",
      "source": [
        "# correção de valores faltantes em produto, categoria, vendedor e dt_venda\n",
        "df.isnull().sum()"
      ],
      "metadata": {
        "id": "kd4Tf_wBDHtp"
      },
      "execution_count": null,
      "outputs": []
    },
    {
      "cell_type": "code",
      "source": [
        "df['produto'] = df['produto'].fillna('Desconhecido')\n",
        "df['categoria'] = df['categoria'].fillna('Desconhecida')\n",
        "df['vendedor'] = df['vendedor'].fillna('Desconhecido')\n",
        "\n",
        "df.info()"
      ],
      "metadata": {
        "id": "z_rxOn6LD1-5"
      },
      "execution_count": null,
      "outputs": []
    },
    {
      "cell_type": "code",
      "source": [
        "df['dt_venda'].fillna('2023-09-22', inplace=True)\n",
        "df.info()"
      ],
      "metadata": {
        "id": "QgnYgd_RExfa"
      },
      "execution_count": null,
      "outputs": []
    },
    {
      "cell_type": "code",
      "source": [
        "# não há duplicidade de dados\n",
        "df.duplicated().sum()\n",
        "\n",
        "df.columns\n",
        "df['id'].duplicated().sum()"
      ],
      "metadata": {
        "id": "zexccpZnFZ7U"
      },
      "execution_count": null,
      "outputs": []
    },
    {
      "cell_type": "code",
      "source": [
        "# criação de colunas\n",
        "df['faturamento'] = df['preco'] * df['quantidade']\n",
        "df['margem_contribuicao'] = df['faturamento'] / df['faturamento'].sum() * 100"
      ],
      "metadata": {
        "id": "LUplbnavFqpH"
      },
      "execution_count": null,
      "outputs": []
    },
    {
      "cell_type": "code",
      "source": [
        "df['mes'] = df['dt_venda'].dt.month\n",
        "df['ano'] = df['dt_venda'].dt.year\n",
        "\n",
        "df.head()"
      ],
      "metadata": {
        "id": "XdnfdnbIHM3J"
      },
      "execution_count": null,
      "outputs": []
    },
    {
      "cell_type": "code",
      "source": [
        "df.ano.unique()"
      ],
      "metadata": {
        "id": "tkWddjznHljm"
      },
      "execution_count": null,
      "outputs": []
    },
    {
      "cell_type": "code",
      "source": [
        "df.mes.unique()"
      ],
      "metadata": {
        "id": "_vMutICtJCzM"
      },
      "execution_count": null,
      "outputs": []
    },
    {
      "cell_type": "code",
      "source": [
        "# mensuramento de dados\n",
        "df_resumo = df.groupby(['ano', 'mes']).agg(\n",
        "    {\n",
        "        'quantidade': 'sum',\n",
        "        'faturamento': 'sum'\n",
        "    }\n",
        ")\n",
        "\n",
        "df_resumo.query(\"ano <= 2025\")"
      ],
      "metadata": {
        "id": "gOZ-eJfYJHXM"
      },
      "execution_count": null,
      "outputs": []
    }
  ]
}